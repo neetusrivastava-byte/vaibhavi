{
  "nbformat": 4,
  "nbformat_minor": 0,
  "metadata": {
    "colab": {
      "provenance": []
    },
    "kernelspec": {
      "name": "python3",
      "display_name": "Python 3"
    },
    "language_info": {
      "name": "python"
    }
  },
  "cells": [
    {
      "cell_type": "markdown",
      "source": [
        " # tu 3.0 it is looking difficult\n",
        " 1. drtebbftghkjk\n",
        "- edveetrfh\n",
        " 2. ftbdtrf\n",
        "- 54657\n",
        " 3. trdtdbt\n"
      ],
      "metadata": {
        "id": "-aTwd_a4_f-z"
      }
    },
    {
      "cell_type": "code",
      "execution_count": null,
      "metadata": {
        "id": "ytthK-qg_S82"
      },
      "outputs": [],
      "source": [
        "rdvgg7j7dd6gygg"
      ]
    }
  ]
}